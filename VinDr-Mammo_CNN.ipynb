{
 "cells": [
  {
   "cell_type": "code",
   "execution_count": 2,
   "id": "a4c19d0c-4a75-4e94-9d41-6863fd9ff052",
   "metadata": {},
   "outputs": [],
   "source": [
    "import pandas as pd\n",
    "import numpy as np"
   ]
  },
  {
   "cell_type": "code",
   "execution_count": 3,
   "id": "dac898a9-1811-4afa-8a1e-ca264f948e9f",
   "metadata": {},
   "outputs": [
    {
     "data": {
      "text/html": [
       "<div>\n",
       "<style scoped>\n",
       "    .dataframe tbody tr th:only-of-type {\n",
       "        vertical-align: middle;\n",
       "    }\n",
       "\n",
       "    .dataframe tbody tr th {\n",
       "        vertical-align: top;\n",
       "    }\n",
       "\n",
       "    .dataframe thead th {\n",
       "        text-align: right;\n",
       "    }\n",
       "</style>\n",
       "<table border=\"1\" class=\"dataframe\">\n",
       "  <thead>\n",
       "    <tr style=\"text-align: right;\">\n",
       "      <th></th>\n",
       "      <th>study_id</th>\n",
       "      <th>series_id</th>\n",
       "      <th>image_id</th>\n",
       "      <th>laterality</th>\n",
       "      <th>view_position</th>\n",
       "      <th>height</th>\n",
       "      <th>width</th>\n",
       "      <th>breast_birads</th>\n",
       "      <th>breast_density</th>\n",
       "      <th>finding_categories</th>\n",
       "      <th>finding_birads</th>\n",
       "      <th>xmin</th>\n",
       "      <th>ymin</th>\n",
       "      <th>xmax</th>\n",
       "      <th>ymax</th>\n",
       "      <th>split</th>\n",
       "      <th>directory_path</th>\n",
       "    </tr>\n",
       "  </thead>\n",
       "  <tbody>\n",
       "    <tr>\n",
       "      <th>0</th>\n",
       "      <td>48575a27b7c992427041a82fa750d3fa</td>\n",
       "      <td>26de4993fa6b8ae50a91c8baf49b92b0</td>\n",
       "      <td>4e3a578fe535ea4f5258d3f7f4419db8</td>\n",
       "      <td>R</td>\n",
       "      <td>CC</td>\n",
       "      <td>3518</td>\n",
       "      <td>2800</td>\n",
       "      <td>BI-RADS 4</td>\n",
       "      <td>DENSITY C</td>\n",
       "      <td>['Mass']</td>\n",
       "      <td>BI-RADS 4</td>\n",
       "      <td>2355.139893</td>\n",
       "      <td>1731.640015</td>\n",
       "      <td>2482.979980</td>\n",
       "      <td>1852.750000</td>\n",
       "      <td>training</td>\n",
       "      <td>Processed_Images/48575a27b7c992427041a82fa750d...</td>\n",
       "    </tr>\n",
       "    <tr>\n",
       "      <th>1</th>\n",
       "      <td>48575a27b7c992427041a82fa750d3fa</td>\n",
       "      <td>26de4993fa6b8ae50a91c8baf49b92b0</td>\n",
       "      <td>dac39351b0f3a8c670b7f8dc88029364</td>\n",
       "      <td>R</td>\n",
       "      <td>MLO</td>\n",
       "      <td>3518</td>\n",
       "      <td>2800</td>\n",
       "      <td>BI-RADS 4</td>\n",
       "      <td>DENSITY C</td>\n",
       "      <td>['Mass']</td>\n",
       "      <td>BI-RADS 4</td>\n",
       "      <td>2386.679932</td>\n",
       "      <td>1240.609985</td>\n",
       "      <td>2501.800049</td>\n",
       "      <td>1354.040039</td>\n",
       "      <td>training</td>\n",
       "      <td>Processed_Images/48575a27b7c992427041a82fa750d...</td>\n",
       "    </tr>\n",
       "    <tr>\n",
       "      <th>2</th>\n",
       "      <td>75e8e48933289d70b407379a564f8594</td>\n",
       "      <td>853b70e7e6f39133497909d9ca4c756d</td>\n",
       "      <td>c83f780904f25eacb44e9030f32c66e1</td>\n",
       "      <td>R</td>\n",
       "      <td>CC</td>\n",
       "      <td>3518</td>\n",
       "      <td>2800</td>\n",
       "      <td>BI-RADS 3</td>\n",
       "      <td>DENSITY C</td>\n",
       "      <td>['Global Asymmetry']</td>\n",
       "      <td>BI-RADS 3</td>\n",
       "      <td>2279.179932</td>\n",
       "      <td>1166.510010</td>\n",
       "      <td>2704.439941</td>\n",
       "      <td>2184.260010</td>\n",
       "      <td>training</td>\n",
       "      <td>Processed_Images/75e8e48933289d70b407379a564f8...</td>\n",
       "    </tr>\n",
       "    <tr>\n",
       "      <th>3</th>\n",
       "      <td>75e8e48933289d70b407379a564f8594</td>\n",
       "      <td>853b70e7e6f39133497909d9ca4c756d</td>\n",
       "      <td>893528bc38a0362928a89364f1b692fd</td>\n",
       "      <td>R</td>\n",
       "      <td>MLO</td>\n",
       "      <td>3518</td>\n",
       "      <td>2800</td>\n",
       "      <td>BI-RADS 3</td>\n",
       "      <td>DENSITY C</td>\n",
       "      <td>['Global Asymmetry']</td>\n",
       "      <td>BI-RADS 3</td>\n",
       "      <td>1954.270020</td>\n",
       "      <td>1443.640015</td>\n",
       "      <td>2589.760010</td>\n",
       "      <td>2193.810059</td>\n",
       "      <td>training</td>\n",
       "      <td>Processed_Images/75e8e48933289d70b407379a564f8...</td>\n",
       "    </tr>\n",
       "    <tr>\n",
       "      <th>4</th>\n",
       "      <td>c3487424fee1bdd4515b72dc3fd69813</td>\n",
       "      <td>77619c914263eae44e9099f1ce07192c</td>\n",
       "      <td>318264c881bf12f2c1efe5f93920cc37</td>\n",
       "      <td>R</td>\n",
       "      <td>CC</td>\n",
       "      <td>3518</td>\n",
       "      <td>2800</td>\n",
       "      <td>BI-RADS 4</td>\n",
       "      <td>DENSITY C</td>\n",
       "      <td>['Architectural Distortion']</td>\n",
       "      <td>BI-RADS 4</td>\n",
       "      <td>2172.300049</td>\n",
       "      <td>1967.410034</td>\n",
       "      <td>2388.699951</td>\n",
       "      <td>2147.159912</td>\n",
       "      <td>training</td>\n",
       "      <td>Processed_Images/c3487424fee1bdd4515b72dc3fd69...</td>\n",
       "    </tr>\n",
       "  </tbody>\n",
       "</table>\n",
       "</div>"
      ],
      "text/plain": [
       "                           study_id                         series_id  \\\n",
       "0  48575a27b7c992427041a82fa750d3fa  26de4993fa6b8ae50a91c8baf49b92b0   \n",
       "1  48575a27b7c992427041a82fa750d3fa  26de4993fa6b8ae50a91c8baf49b92b0   \n",
       "2  75e8e48933289d70b407379a564f8594  853b70e7e6f39133497909d9ca4c756d   \n",
       "3  75e8e48933289d70b407379a564f8594  853b70e7e6f39133497909d9ca4c756d   \n",
       "4  c3487424fee1bdd4515b72dc3fd69813  77619c914263eae44e9099f1ce07192c   \n",
       "\n",
       "                           image_id laterality view_position  height  width  \\\n",
       "0  4e3a578fe535ea4f5258d3f7f4419db8          R            CC    3518   2800   \n",
       "1  dac39351b0f3a8c670b7f8dc88029364          R           MLO    3518   2800   \n",
       "2  c83f780904f25eacb44e9030f32c66e1          R            CC    3518   2800   \n",
       "3  893528bc38a0362928a89364f1b692fd          R           MLO    3518   2800   \n",
       "4  318264c881bf12f2c1efe5f93920cc37          R            CC    3518   2800   \n",
       "\n",
       "  breast_birads breast_density            finding_categories finding_birads  \\\n",
       "0     BI-RADS 4      DENSITY C                      ['Mass']      BI-RADS 4   \n",
       "1     BI-RADS 4      DENSITY C                      ['Mass']      BI-RADS 4   \n",
       "2     BI-RADS 3      DENSITY C          ['Global Asymmetry']      BI-RADS 3   \n",
       "3     BI-RADS 3      DENSITY C          ['Global Asymmetry']      BI-RADS 3   \n",
       "4     BI-RADS 4      DENSITY C  ['Architectural Distortion']      BI-RADS 4   \n",
       "\n",
       "          xmin         ymin         xmax         ymax     split  \\\n",
       "0  2355.139893  1731.640015  2482.979980  1852.750000  training   \n",
       "1  2386.679932  1240.609985  2501.800049  1354.040039  training   \n",
       "2  2279.179932  1166.510010  2704.439941  2184.260010  training   \n",
       "3  1954.270020  1443.640015  2589.760010  2193.810059  training   \n",
       "4  2172.300049  1967.410034  2388.699951  2147.159912  training   \n",
       "\n",
       "                                      directory_path  \n",
       "0  Processed_Images/48575a27b7c992427041a82fa750d...  \n",
       "1  Processed_Images/48575a27b7c992427041a82fa750d...  \n",
       "2  Processed_Images/75e8e48933289d70b407379a564f8...  \n",
       "3  Processed_Images/75e8e48933289d70b407379a564f8...  \n",
       "4  Processed_Images/c3487424fee1bdd4515b72dc3fd69...  "
      ]
     },
     "execution_count": 3,
     "metadata": {},
     "output_type": "execute_result"
    }
   ],
   "source": [
    "df = pd.read_csv('updated_metadata.csv')\n",
    "\n",
    "df.head()"
   ]
  },
  {
   "cell_type": "code",
   "execution_count": 4,
   "id": "f47c4cc1-c030-40d4-82d2-5bd5be94ba58",
   "metadata": {},
   "outputs": [
    {
     "data": {
      "text/html": [
       "<div>\n",
       "<style scoped>\n",
       "    .dataframe tbody tr th:only-of-type {\n",
       "        vertical-align: middle;\n",
       "    }\n",
       "\n",
       "    .dataframe tbody tr th {\n",
       "        vertical-align: top;\n",
       "    }\n",
       "\n",
       "    .dataframe thead th {\n",
       "        text-align: right;\n",
       "    }\n",
       "</style>\n",
       "<table border=\"1\" class=\"dataframe\">\n",
       "  <thead>\n",
       "    <tr style=\"text-align: right;\">\n",
       "      <th></th>\n",
       "      <th>study_id</th>\n",
       "      <th>series_id</th>\n",
       "      <th>image_id</th>\n",
       "      <th>laterality</th>\n",
       "      <th>view_position</th>\n",
       "      <th>height</th>\n",
       "      <th>width</th>\n",
       "      <th>breast_birads</th>\n",
       "      <th>breast_density</th>\n",
       "      <th>finding_categories</th>\n",
       "      <th>finding_birads</th>\n",
       "      <th>xmin</th>\n",
       "      <th>ymin</th>\n",
       "      <th>xmax</th>\n",
       "      <th>ymax</th>\n",
       "      <th>split</th>\n",
       "      <th>directory_path</th>\n",
       "    </tr>\n",
       "  </thead>\n",
       "  <tbody>\n",
       "    <tr>\n",
       "      <th>0</th>\n",
       "      <td>48575a27b7c992427041a82fa750d3fa</td>\n",
       "      <td>26de4993fa6b8ae50a91c8baf49b92b0</td>\n",
       "      <td>4e3a578fe535ea4f5258d3f7f4419db8</td>\n",
       "      <td>R</td>\n",
       "      <td>CC</td>\n",
       "      <td>3518</td>\n",
       "      <td>2800</td>\n",
       "      <td>3</td>\n",
       "      <td>DENSITY C</td>\n",
       "      <td>['Mass']</td>\n",
       "      <td>BI-RADS 4</td>\n",
       "      <td>2355.139893</td>\n",
       "      <td>1731.640015</td>\n",
       "      <td>2482.979980</td>\n",
       "      <td>1852.750000</td>\n",
       "      <td>training</td>\n",
       "      <td>Processed_Images/48575a27b7c992427041a82fa750d...</td>\n",
       "    </tr>\n",
       "    <tr>\n",
       "      <th>1</th>\n",
       "      <td>48575a27b7c992427041a82fa750d3fa</td>\n",
       "      <td>26de4993fa6b8ae50a91c8baf49b92b0</td>\n",
       "      <td>dac39351b0f3a8c670b7f8dc88029364</td>\n",
       "      <td>R</td>\n",
       "      <td>MLO</td>\n",
       "      <td>3518</td>\n",
       "      <td>2800</td>\n",
       "      <td>3</td>\n",
       "      <td>DENSITY C</td>\n",
       "      <td>['Mass']</td>\n",
       "      <td>BI-RADS 4</td>\n",
       "      <td>2386.679932</td>\n",
       "      <td>1240.609985</td>\n",
       "      <td>2501.800049</td>\n",
       "      <td>1354.040039</td>\n",
       "      <td>training</td>\n",
       "      <td>Processed_Images/48575a27b7c992427041a82fa750d...</td>\n",
       "    </tr>\n",
       "    <tr>\n",
       "      <th>2</th>\n",
       "      <td>75e8e48933289d70b407379a564f8594</td>\n",
       "      <td>853b70e7e6f39133497909d9ca4c756d</td>\n",
       "      <td>c83f780904f25eacb44e9030f32c66e1</td>\n",
       "      <td>R</td>\n",
       "      <td>CC</td>\n",
       "      <td>3518</td>\n",
       "      <td>2800</td>\n",
       "      <td>2</td>\n",
       "      <td>DENSITY C</td>\n",
       "      <td>['Global Asymmetry']</td>\n",
       "      <td>BI-RADS 3</td>\n",
       "      <td>2279.179932</td>\n",
       "      <td>1166.510010</td>\n",
       "      <td>2704.439941</td>\n",
       "      <td>2184.260010</td>\n",
       "      <td>training</td>\n",
       "      <td>Processed_Images/75e8e48933289d70b407379a564f8...</td>\n",
       "    </tr>\n",
       "    <tr>\n",
       "      <th>3</th>\n",
       "      <td>75e8e48933289d70b407379a564f8594</td>\n",
       "      <td>853b70e7e6f39133497909d9ca4c756d</td>\n",
       "      <td>893528bc38a0362928a89364f1b692fd</td>\n",
       "      <td>R</td>\n",
       "      <td>MLO</td>\n",
       "      <td>3518</td>\n",
       "      <td>2800</td>\n",
       "      <td>2</td>\n",
       "      <td>DENSITY C</td>\n",
       "      <td>['Global Asymmetry']</td>\n",
       "      <td>BI-RADS 3</td>\n",
       "      <td>1954.270020</td>\n",
       "      <td>1443.640015</td>\n",
       "      <td>2589.760010</td>\n",
       "      <td>2193.810059</td>\n",
       "      <td>training</td>\n",
       "      <td>Processed_Images/75e8e48933289d70b407379a564f8...</td>\n",
       "    </tr>\n",
       "    <tr>\n",
       "      <th>4</th>\n",
       "      <td>c3487424fee1bdd4515b72dc3fd69813</td>\n",
       "      <td>77619c914263eae44e9099f1ce07192c</td>\n",
       "      <td>318264c881bf12f2c1efe5f93920cc37</td>\n",
       "      <td>R</td>\n",
       "      <td>CC</td>\n",
       "      <td>3518</td>\n",
       "      <td>2800</td>\n",
       "      <td>3</td>\n",
       "      <td>DENSITY C</td>\n",
       "      <td>['Architectural Distortion']</td>\n",
       "      <td>BI-RADS 4</td>\n",
       "      <td>2172.300049</td>\n",
       "      <td>1967.410034</td>\n",
       "      <td>2388.699951</td>\n",
       "      <td>2147.159912</td>\n",
       "      <td>training</td>\n",
       "      <td>Processed_Images/c3487424fee1bdd4515b72dc3fd69...</td>\n",
       "    </tr>\n",
       "  </tbody>\n",
       "</table>\n",
       "</div>"
      ],
      "text/plain": [
       "                           study_id                         series_id  \\\n",
       "0  48575a27b7c992427041a82fa750d3fa  26de4993fa6b8ae50a91c8baf49b92b0   \n",
       "1  48575a27b7c992427041a82fa750d3fa  26de4993fa6b8ae50a91c8baf49b92b0   \n",
       "2  75e8e48933289d70b407379a564f8594  853b70e7e6f39133497909d9ca4c756d   \n",
       "3  75e8e48933289d70b407379a564f8594  853b70e7e6f39133497909d9ca4c756d   \n",
       "4  c3487424fee1bdd4515b72dc3fd69813  77619c914263eae44e9099f1ce07192c   \n",
       "\n",
       "                           image_id laterality view_position  height  width  \\\n",
       "0  4e3a578fe535ea4f5258d3f7f4419db8          R            CC    3518   2800   \n",
       "1  dac39351b0f3a8c670b7f8dc88029364          R           MLO    3518   2800   \n",
       "2  c83f780904f25eacb44e9030f32c66e1          R            CC    3518   2800   \n",
       "3  893528bc38a0362928a89364f1b692fd          R           MLO    3518   2800   \n",
       "4  318264c881bf12f2c1efe5f93920cc37          R            CC    3518   2800   \n",
       "\n",
       "   breast_birads breast_density            finding_categories finding_birads  \\\n",
       "0              3      DENSITY C                      ['Mass']      BI-RADS 4   \n",
       "1              3      DENSITY C                      ['Mass']      BI-RADS 4   \n",
       "2              2      DENSITY C          ['Global Asymmetry']      BI-RADS 3   \n",
       "3              2      DENSITY C          ['Global Asymmetry']      BI-RADS 3   \n",
       "4              3      DENSITY C  ['Architectural Distortion']      BI-RADS 4   \n",
       "\n",
       "          xmin         ymin         xmax         ymax     split  \\\n",
       "0  2355.139893  1731.640015  2482.979980  1852.750000  training   \n",
       "1  2386.679932  1240.609985  2501.800049  1354.040039  training   \n",
       "2  2279.179932  1166.510010  2704.439941  2184.260010  training   \n",
       "3  1954.270020  1443.640015  2589.760010  2193.810059  training   \n",
       "4  2172.300049  1967.410034  2388.699951  2147.159912  training   \n",
       "\n",
       "                                      directory_path  \n",
       "0  Processed_Images/48575a27b7c992427041a82fa750d...  \n",
       "1  Processed_Images/48575a27b7c992427041a82fa750d...  \n",
       "2  Processed_Images/75e8e48933289d70b407379a564f8...  \n",
       "3  Processed_Images/75e8e48933289d70b407379a564f8...  \n",
       "4  Processed_Images/c3487424fee1bdd4515b72dc3fd69...  "
      ]
     },
     "execution_count": 4,
     "metadata": {},
     "output_type": "execute_result"
    }
   ],
   "source": [
    "from sklearn.preprocessing import LabelEncoder\n",
    "\n",
    "label_encoder = LabelEncoder()\n",
    "\n",
    "df['breast_birads'] = label_encoder.fit_transform(df['breast_birads'])\n",
    "\n",
    "df.head()"
   ]
  },
  {
   "cell_type": "code",
   "execution_count": 5,
   "id": "9dee75fd-ca57-4e4c-adfc-3d863deded49",
   "metadata": {},
   "outputs": [
    {
     "name": "stdout",
     "output_type": "stream",
     "text": [
      "Requirement already satisfied: imbalanced-learn in c:\\users\\shash\\anaconda3\\lib\\site-packages (0.12.3)\n",
      "Requirement already satisfied: numpy>=1.17.3 in c:\\users\\shash\\anaconda3\\lib\\site-packages (from imbalanced-learn) (1.26.4)\n",
      "Requirement already satisfied: scipy>=1.5.0 in c:\\users\\shash\\anaconda3\\lib\\site-packages (from imbalanced-learn) (1.13.1)\n",
      "Requirement already satisfied: scikit-learn>=1.0.2 in c:\\users\\shash\\anaconda3\\lib\\site-packages (from imbalanced-learn) (1.4.2)\n",
      "Requirement already satisfied: joblib>=1.1.1 in c:\\users\\shash\\anaconda3\\lib\\site-packages (from imbalanced-learn) (1.4.2)\n",
      "Requirement already satisfied: threadpoolctl>=2.0.0 in c:\\users\\shash\\anaconda3\\lib\\site-packages (from imbalanced-learn) (2.2.0)\n"
     ]
    }
   ],
   "source": [
    "!pip install imbalanced-learn\n",
    "\n",
    "import os\n",
    "import torch\n",
    "import torchvision.transforms as transforms\n",
    "from torch.utils.data import DataLoader, Dataset\n",
    "from PIL import Image\n",
    "from transformers import AdamW, SwinForImageClassification, AutoFeatureExtractor\n",
    "from sklearn.preprocessing import LabelEncoder\n",
    "from imblearn.over_sampling import RandomOverSampler\n",
    "from imblearn.under_sampling import RandomUnderSampler\n",
    "from sklearn.model_selection import train_test_split\n",
    "from sklearn.metrics import accuracy_score, precision_score, recall_score, f1_score\n",
    "from collections import Counter\n",
    "from torch.optim.lr_scheduler import CosineAnnealingLR\n",
    "import matplotlib.pyplot as plt\n",
    "from sklearn.metrics import precision_recall_fscore_support"
   ]
  },
  {
   "cell_type": "code",
   "execution_count": 6,
   "id": "f2753926-ceed-4d50-8ad3-fdb66ae9fd92",
   "metadata": {},
   "outputs": [
    {
     "name": "stdout",
     "output_type": "stream",
     "text": [
      "Balanced class distribution: Counter({0: 4000, 1: 4000, 2: 4000, 3: 4000, 4: 4000})\n"
     ]
    }
   ],
   "source": [
    "# Encode labels\n",
    "label_encoder = LabelEncoder()\n",
    "df['breast_birads'] = label_encoder.fit_transform(df['breast_birads'])\n",
    "\n",
    "# Split data into features and labels\n",
    "X = df[['directory_path']]\n",
    "y = df['breast_birads']\n",
    "\n",
    "# Define sampling strategies\n",
    "oversample = RandomOverSampler(sampling_strategy={2: 4000, 3: 4000, 4: 4000})\n",
    "undersample = RandomUnderSampler(sampling_strategy={0: 4000, 1: 4000})\n",
    "\n",
    "# First, oversample minority classes\n",
    "X_over, y_over = oversample.fit_resample(X, y)\n",
    "\n",
    "# Then, undersample the majority class\n",
    "X_balanced, y_balanced = undersample.fit_resample(X_over, y_over)\n",
    "\n",
    "# Combine into a balanced DataFrame\n",
    "balanced_df = pd.concat([X_balanced, y_balanced], axis=1)\n",
    "\n",
    "# Check the distribution\n",
    "print(\"Balanced class distribution:\", Counter(y_balanced))"
   ]
  },
  {
   "cell_type": "code",
   "execution_count": 7,
   "id": "2ae2cb1f-1629-4a07-9156-89d6b17ac385",
   "metadata": {},
   "outputs": [],
   "source": [
    "# Split the balanced dataset into training and testing sets\n",
    "train_df, test_df = train_test_split(balanced_df, test_size=0.2, random_state=42, stratify=balanced_df['breast_birads'])"
   ]
  },
  {
   "cell_type": "code",
   "execution_count": 8,
   "id": "3136c5cd-d10f-42d7-b35a-7d659558ddda",
   "metadata": {},
   "outputs": [],
   "source": [
    "# Define transformations\n",
    "transform = transforms.Compose([\n",
    "    transforms.Resize((224, 224)),\n",
    "    transforms.RandomHorizontalFlip(),\n",
    "    transforms.RandomRotation(10),\n",
    "    transforms.ColorJitter(brightness=0.2, contrast=0.2, saturation=0.2, hue=0.2),\n",
    "    transforms.ToTensor(),\n",
    "    transforms.Normalize(mean=[0.485, 0.456, 0.406], std=[0.229, 0.224, 0.225])\n",
    "])"
   ]
  },
  {
   "cell_type": "code",
   "execution_count": 9,
   "id": "eb77d3d2-2171-42dd-a060-74f248157ace",
   "metadata": {},
   "outputs": [
    {
     "name": "stderr",
     "output_type": "stream",
     "text": [
      "C:\\Users\\shash\\anaconda3\\Lib\\site-packages\\keras\\src\\layers\\reshaping\\flatten.py:37: UserWarning: Do not pass an `input_shape`/`input_dim` argument to a layer. When using Sequential models, prefer using an `Input(shape)` object as the first layer in the model instead.\n",
      "  super().__init__(**kwargs)\n"
     ]
    }
   ],
   "source": [
    "from tensorflow.keras.models import Sequential\n",
    "from tensorflow.keras.layers import Dense, Flatten, Dropout\n",
    "from tensorflow.keras.optimizers import Adam\n",
    "\n",
    "# Define the ANN model\n",
    "image_size = 64\n",
    "ann_model = Sequential([\n",
    "    Flatten(input_shape=(image_size, image_size, 3)),  # Flatten layer to convert 2D image data to 1D\n",
    "    Dense(128, activation='relu'),  # Fully connected layer with 128 neurons and ReLU activation\n",
    "    Dropout(0.5),  # Dropout layer with dropout rate of 0.5 to prevent overfitting\n",
    "    Dense(64, activation='relu'),  # Fully connected layer with 64 neurons and ReLU activation\n",
    "    Dropout(0.5),  # Dropout layer with dropout rate of 0.5\n",
    "    Dense(1, activation='sigmoid')  # Output layer with sigmoid activation for binary classification\n",
    "])"
   ]
  },
  {
   "cell_type": "code",
   "execution_count": 10,
   "id": "0c3b7b19-518c-453f-acdf-53d5968c7dc5",
   "metadata": {
    "scrolled": true
   },
   "outputs": [],
   "source": [
    "ann_model.compile(optimizer=Adam(), loss='binary_crossentropy', metrics=['accuracy'])"
   ]
  },
  {
   "cell_type": "code",
   "execution_count": 11,
   "id": "75b21ee1-92f3-4284-8115-82a27f275179",
   "metadata": {},
   "outputs": [
    {
     "data": {
      "text/html": [
       "<pre style=\"white-space:pre;overflow-x:auto;line-height:normal;font-family:Menlo,'DejaVu Sans Mono',consolas,'Courier New',monospace\"><span style=\"font-weight: bold\">Model: \"sequential\"</span>\n",
       "</pre>\n"
      ],
      "text/plain": [
       "\u001b[1mModel: \"sequential\"\u001b[0m\n"
      ]
     },
     "metadata": {},
     "output_type": "display_data"
    },
    {
     "data": {
      "text/html": [
       "<pre style=\"white-space:pre;overflow-x:auto;line-height:normal;font-family:Menlo,'DejaVu Sans Mono',consolas,'Courier New',monospace\">┏━━━━━━━━━━━━━━━━━━━━━━━━━━━━━━━━━━━━━━┳━━━━━━━━━━━━━━━━━━━━━━━━━━━━━┳━━━━━━━━━━━━━━━━━┓\n",
       "┃<span style=\"font-weight: bold\"> Layer (type)                         </span>┃<span style=\"font-weight: bold\"> Output Shape                </span>┃<span style=\"font-weight: bold\">         Param # </span>┃\n",
       "┡━━━━━━━━━━━━━━━━━━━━━━━━━━━━━━━━━━━━━━╇━━━━━━━━━━━━━━━━━━━━━━━━━━━━━╇━━━━━━━━━━━━━━━━━┩\n",
       "│ flatten (<span style=\"color: #0087ff; text-decoration-color: #0087ff\">Flatten</span>)                    │ (<span style=\"color: #00d7ff; text-decoration-color: #00d7ff\">None</span>, <span style=\"color: #00af00; text-decoration-color: #00af00\">12288</span>)               │               <span style=\"color: #00af00; text-decoration-color: #00af00\">0</span> │\n",
       "├──────────────────────────────────────┼─────────────────────────────┼─────────────────┤\n",
       "│ dense (<span style=\"color: #0087ff; text-decoration-color: #0087ff\">Dense</span>)                        │ (<span style=\"color: #00d7ff; text-decoration-color: #00d7ff\">None</span>, <span style=\"color: #00af00; text-decoration-color: #00af00\">128</span>)                 │       <span style=\"color: #00af00; text-decoration-color: #00af00\">1,572,992</span> │\n",
       "├──────────────────────────────────────┼─────────────────────────────┼─────────────────┤\n",
       "│ dropout (<span style=\"color: #0087ff; text-decoration-color: #0087ff\">Dropout</span>)                    │ (<span style=\"color: #00d7ff; text-decoration-color: #00d7ff\">None</span>, <span style=\"color: #00af00; text-decoration-color: #00af00\">128</span>)                 │               <span style=\"color: #00af00; text-decoration-color: #00af00\">0</span> │\n",
       "├──────────────────────────────────────┼─────────────────────────────┼─────────────────┤\n",
       "│ dense_1 (<span style=\"color: #0087ff; text-decoration-color: #0087ff\">Dense</span>)                      │ (<span style=\"color: #00d7ff; text-decoration-color: #00d7ff\">None</span>, <span style=\"color: #00af00; text-decoration-color: #00af00\">64</span>)                  │           <span style=\"color: #00af00; text-decoration-color: #00af00\">8,256</span> │\n",
       "├──────────────────────────────────────┼─────────────────────────────┼─────────────────┤\n",
       "│ dropout_1 (<span style=\"color: #0087ff; text-decoration-color: #0087ff\">Dropout</span>)                  │ (<span style=\"color: #00d7ff; text-decoration-color: #00d7ff\">None</span>, <span style=\"color: #00af00; text-decoration-color: #00af00\">64</span>)                  │               <span style=\"color: #00af00; text-decoration-color: #00af00\">0</span> │\n",
       "├──────────────────────────────────────┼─────────────────────────────┼─────────────────┤\n",
       "│ dense_2 (<span style=\"color: #0087ff; text-decoration-color: #0087ff\">Dense</span>)                      │ (<span style=\"color: #00d7ff; text-decoration-color: #00d7ff\">None</span>, <span style=\"color: #00af00; text-decoration-color: #00af00\">1</span>)                   │              <span style=\"color: #00af00; text-decoration-color: #00af00\">65</span> │\n",
       "└──────────────────────────────────────┴─────────────────────────────┴─────────────────┘\n",
       "</pre>\n"
      ],
      "text/plain": [
       "┏━━━━━━━━━━━━━━━━━━━━━━━━━━━━━━━━━━━━━━┳━━━━━━━━━━━━━━━━━━━━━━━━━━━━━┳━━━━━━━━━━━━━━━━━┓\n",
       "┃\u001b[1m \u001b[0m\u001b[1mLayer (type)                        \u001b[0m\u001b[1m \u001b[0m┃\u001b[1m \u001b[0m\u001b[1mOutput Shape               \u001b[0m\u001b[1m \u001b[0m┃\u001b[1m \u001b[0m\u001b[1m        Param #\u001b[0m\u001b[1m \u001b[0m┃\n",
       "┡━━━━━━━━━━━━━━━━━━━━━━━━━━━━━━━━━━━━━━╇━━━━━━━━━━━━━━━━━━━━━━━━━━━━━╇━━━━━━━━━━━━━━━━━┩\n",
       "│ flatten (\u001b[38;5;33mFlatten\u001b[0m)                    │ (\u001b[38;5;45mNone\u001b[0m, \u001b[38;5;34m12288\u001b[0m)               │               \u001b[38;5;34m0\u001b[0m │\n",
       "├──────────────────────────────────────┼─────────────────────────────┼─────────────────┤\n",
       "│ dense (\u001b[38;5;33mDense\u001b[0m)                        │ (\u001b[38;5;45mNone\u001b[0m, \u001b[38;5;34m128\u001b[0m)                 │       \u001b[38;5;34m1,572,992\u001b[0m │\n",
       "├──────────────────────────────────────┼─────────────────────────────┼─────────────────┤\n",
       "│ dropout (\u001b[38;5;33mDropout\u001b[0m)                    │ (\u001b[38;5;45mNone\u001b[0m, \u001b[38;5;34m128\u001b[0m)                 │               \u001b[38;5;34m0\u001b[0m │\n",
       "├──────────────────────────────────────┼─────────────────────────────┼─────────────────┤\n",
       "│ dense_1 (\u001b[38;5;33mDense\u001b[0m)                      │ (\u001b[38;5;45mNone\u001b[0m, \u001b[38;5;34m64\u001b[0m)                  │           \u001b[38;5;34m8,256\u001b[0m │\n",
       "├──────────────────────────────────────┼─────────────────────────────┼─────────────────┤\n",
       "│ dropout_1 (\u001b[38;5;33mDropout\u001b[0m)                  │ (\u001b[38;5;45mNone\u001b[0m, \u001b[38;5;34m64\u001b[0m)                  │               \u001b[38;5;34m0\u001b[0m │\n",
       "├──────────────────────────────────────┼─────────────────────────────┼─────────────────┤\n",
       "│ dense_2 (\u001b[38;5;33mDense\u001b[0m)                      │ (\u001b[38;5;45mNone\u001b[0m, \u001b[38;5;34m1\u001b[0m)                   │              \u001b[38;5;34m65\u001b[0m │\n",
       "└──────────────────────────────────────┴─────────────────────────────┴─────────────────┘\n"
      ]
     },
     "metadata": {},
     "output_type": "display_data"
    },
    {
     "data": {
      "text/html": [
       "<pre style=\"white-space:pre;overflow-x:auto;line-height:normal;font-family:Menlo,'DejaVu Sans Mono',consolas,'Courier New',monospace\"><span style=\"font-weight: bold\"> Total params: </span><span style=\"color: #00af00; text-decoration-color: #00af00\">1,581,313</span> (6.03 MB)\n",
       "</pre>\n"
      ],
      "text/plain": [
       "\u001b[1m Total params: \u001b[0m\u001b[38;5;34m1,581,313\u001b[0m (6.03 MB)\n"
      ]
     },
     "metadata": {},
     "output_type": "display_data"
    },
    {
     "data": {
      "text/html": [
       "<pre style=\"white-space:pre;overflow-x:auto;line-height:normal;font-family:Menlo,'DejaVu Sans Mono',consolas,'Courier New',monospace\"><span style=\"font-weight: bold\"> Trainable params: </span><span style=\"color: #00af00; text-decoration-color: #00af00\">1,581,313</span> (6.03 MB)\n",
       "</pre>\n"
      ],
      "text/plain": [
       "\u001b[1m Trainable params: \u001b[0m\u001b[38;5;34m1,581,313\u001b[0m (6.03 MB)\n"
      ]
     },
     "metadata": {},
     "output_type": "display_data"
    },
    {
     "data": {
      "text/html": [
       "<pre style=\"white-space:pre;overflow-x:auto;line-height:normal;font-family:Menlo,'DejaVu Sans Mono',consolas,'Courier New',monospace\"><span style=\"font-weight: bold\"> Non-trainable params: </span><span style=\"color: #00af00; text-decoration-color: #00af00\">0</span> (0.00 B)\n",
       "</pre>\n"
      ],
      "text/plain": [
       "\u001b[1m Non-trainable params: \u001b[0m\u001b[38;5;34m0\u001b[0m (0.00 B)\n"
      ]
     },
     "metadata": {},
     "output_type": "display_data"
    }
   ],
   "source": [
    "ann_model.summary()"
   ]
  },
  {
   "cell_type": "code",
   "execution_count": 12,
   "id": "fec359d3-4133-4a61-b50a-9e08ccfc73a8",
   "metadata": {},
   "outputs": [
    {
     "name": "stdout",
     "output_type": "stream",
     "text": [
      "Epoch 1/10\n",
      "\u001b[1m1875/1875\u001b[0m \u001b[32m━━━━━━━━━━━━━━━━━━━━\u001b[0m\u001b[37m\u001b[0m \u001b[1m3s\u001b[0m 1ms/step - accuracy: 0.8819 - loss: 0.4234 - val_accuracy: 0.9594 - val_loss: 0.1377\n",
      "Epoch 2/10\n",
      "\u001b[1m1875/1875\u001b[0m \u001b[32m━━━━━━━━━━━━━━━━━━━━\u001b[0m\u001b[37m\u001b[0m \u001b[1m2s\u001b[0m 1ms/step - accuracy: 0.9673 - loss: 0.1138 - val_accuracy: 0.9689 - val_loss: 0.1031\n",
      "Epoch 3/10\n",
      "\u001b[1m1875/1875\u001b[0m \u001b[32m━━━━━━━━━━━━━━━━━━━━\u001b[0m\u001b[37m\u001b[0m \u001b[1m2s\u001b[0m 995us/step - accuracy: 0.9765 - loss: 0.0770 - val_accuracy: 0.9729 - val_loss: 0.0911\n",
      "Epoch 4/10\n",
      "\u001b[1m1875/1875\u001b[0m \u001b[32m━━━━━━━━━━━━━━━━━━━━\u001b[0m\u001b[37m\u001b[0m \u001b[1m2s\u001b[0m 1ms/step - accuracy: 0.9825 - loss: 0.0571 - val_accuracy: 0.9744 - val_loss: 0.0835\n",
      "Epoch 5/10\n",
      "\u001b[1m1875/1875\u001b[0m \u001b[32m━━━━━━━━━━━━━━━━━━━━\u001b[0m\u001b[37m\u001b[0m \u001b[1m2s\u001b[0m 1ms/step - accuracy: 0.9876 - loss: 0.0420 - val_accuracy: 0.9770 - val_loss: 0.0712\n",
      "Epoch 6/10\n",
      "\u001b[1m1875/1875\u001b[0m \u001b[32m━━━━━━━━━━━━━━━━━━━━\u001b[0m\u001b[37m\u001b[0m \u001b[1m2s\u001b[0m 1ms/step - accuracy: 0.9906 - loss: 0.0324 - val_accuracy: 0.9784 - val_loss: 0.0726\n",
      "Epoch 7/10\n",
      "\u001b[1m1875/1875\u001b[0m \u001b[32m━━━━━━━━━━━━━━━━━━━━\u001b[0m\u001b[37m\u001b[0m \u001b[1m2s\u001b[0m 1ms/step - accuracy: 0.9929 - loss: 0.0243 - val_accuracy: 0.9787 - val_loss: 0.0752\n",
      "Epoch 8/10\n",
      "\u001b[1m1875/1875\u001b[0m \u001b[32m━━━━━━━━━━━━━━━━━━━━\u001b[0m\u001b[37m\u001b[0m \u001b[1m2s\u001b[0m 1ms/step - accuracy: 0.9942 - loss: 0.0205 - val_accuracy: 0.9762 - val_loss: 0.0859\n",
      "Epoch 9/10\n",
      "\u001b[1m1875/1875\u001b[0m \u001b[32m━━━━━━━━━━━━━━━━━━━━\u001b[0m\u001b[37m\u001b[0m \u001b[1m2s\u001b[0m 1ms/step - accuracy: 0.9949 - loss: 0.0179 - val_accuracy: 0.9736 - val_loss: 0.0941\n",
      "Epoch 10/10\n",
      "\u001b[1m1875/1875\u001b[0m \u001b[32m━━━━━━━━━━━━━━━━━━━━\u001b[0m\u001b[37m\u001b[0m \u001b[1m2s\u001b[0m 1ms/step - accuracy: 0.9952 - loss: 0.0141 - val_accuracy: 0.9793 - val_loss: 0.0771\n"
     ]
    }
   ],
   "source": [
    "import tensorflow as tf\n",
    "from tensorflow.keras import layers, models\n",
    "\n",
    "# Define your neural network architecture\n",
    "def create_model():\n",
    "    model = models.Sequential([\n",
    "        layers.Flatten(input_shape=(28, 28)),  # Input layer\n",
    "        layers.Dense(128, activation='relu'),  # Hidden layer\n",
    "        layers.Dense(10, activation='softmax')  # Output layer\n",
    "    ])\n",
    "    model.compile(optimizer='adam',\n",
    "                  loss='sparse_categorical_crossentropy',\n",
    "                  metrics=['accuracy'])\n",
    "    return model\n",
    "\n",
    "# Example data (replace this with your actual data loading code)\n",
    "(train_images, train_labels), (val_images, val_labels) = tf.keras.datasets.mnist.load_data()\n",
    "train_images = train_images / 255.0\n",
    "val_images = val_images / 255.0\n",
    "\n",
    "# Hyperparameters\n",
    "epochs = 10\n",
    "batch_size = 32\n",
    "\n",
    "# Create and train the model\n",
    "try:\n",
    "    ann_model = create_model()\n",
    "    ann_history = ann_model.fit(train_images, train_labels, epochs=epochs, batch_size=batch_size, validation_data=(val_images, val_labels))\n",
    "except Exception as e:\n",
    "    print(\"An error occurred during training:\", e)"
   ]
  },
  {
   "cell_type": "code",
   "execution_count": 13,
   "id": "a591eb3a-1499-4d52-a58b-f3e3c668dfe9",
   "metadata": {},
   "outputs": [
    {
     "name": "stdout",
     "output_type": "stream",
     "text": [
      "\u001b[1m313/313\u001b[0m \u001b[32m━━━━━━━━━━━━━━━━━━━━\u001b[0m\u001b[37m\u001b[0m \u001b[1m0s\u001b[0m 701us/step\n",
      "Precision: 0.9793212957309828\n",
      "Recall: 0.9793\n",
      "F1 Score: 0.9792985654225562\n"
     ]
    }
   ],
   "source": [
    "from sklearn.metrics import precision_score, recall_score, f1_score\n",
    "\n",
    "# Get predictions on the validation data\n",
    "val_predictions = ann_model.predict(val_images)\n",
    "val_predictions_classes = np.argmax(val_predictions, axis=1)\n",
    "\n",
    "# Calculate Precision, Recall, and F1 Score\n",
    "precision = precision_score(val_labels, val_predictions_classes, average='weighted')\n",
    "recall = recall_score(val_labels, val_predictions_classes, average='weighted')\n",
    "f1 = f1_score(val_labels, val_predictions_classes, average='weighted')\n",
    "\n",
    "# Print the results\n",
    "print(\"Precision:\", precision)\n",
    "print(\"Recall:\", recall)\n",
    "print(\"F1 Score:\", f1)"
   ]
  },
  {
   "cell_type": "code",
   "execution_count": 27,
   "id": "83945270-c585-4870-90bf-0cf0dda54a92",
   "metadata": {},
   "outputs": [
    {
     "data": {
      "image/png": "[encoded data removed]",
      "text/plain": [
       "<Figure size 1200x400 with 2 Axes>"
      ]
     },
     "metadata": {},
     "output_type": "display_data"
    }
   ],
   "source": [
    "import matplotlib.pyplot as plt\n",
    "\n",
    "# Function to plot training & validation accuracy and loss\n",
    "def plot_training_history(history):\n",
    "    # Plot training & validation accuracy values\n",
    "    plt.figure(figsize=(12, 4))\n",
    "    \n",
    "    # Accuracy plot\n",
    "    plt.subplot(1, 2, 1)\n",
    "    plt.plot(history.history['accuracy'], label='Train Accuracy')\n",
    "    plt.plot(history.history['val_accuracy'], label='Validation Accuracy')\n",
    "    plt.title('Model Accuracy')\n",
    "    plt.ylabel('Accuracy')\n",
    "    plt.xlabel('Epoch')\n",
    "    plt.legend(loc='upper left')\n",
    "    \n",
    "    # Loss plot\n",
    "    plt.subplot(1, 2, 2)\n",
    "    plt.plot(history.history['loss'], label='Train Loss')\n",
    "    plt.plot(history.history['val_loss'], label='Validation Loss')\n",
    "    plt.title('Model Loss')\n",
    "    plt.ylabel('Loss')\n",
    "    plt.xlabel('Epoch')\n",
    "    plt.legend(loc='upper left')\n",
    "    \n",
    "    plt.tight_layout()\n",
    "    plt.show()\n",
    "\n",
    "# Call the function to plot the training history\n",
    "plot_training_history(ann_history)"
   ]
  },
  {
   "cell_type": "code",
   "execution_count": null,
   "id": "08ec24f3-be6a-4f27-a0ab-5d0887a2e98f",
   "metadata": {},
   "outputs": [],
   "source": []
  },
  {
   "cell_type": "code",
   "execution_count": null,
   "id": "54adcbb3-ea04-4a92-8fb6-66287e455d66",
   "metadata": {},
   "outputs": [],
   "source": []
  },
  {
   "cell_type": "code",
   "execution_count": null,
   "id": "957c9f98-e328-4bd5-85b3-abe67698935e",
   "metadata": {},
   "outputs": [],
   "source": []
  },
  {
   "cell_type": "code",
   "execution_count": null,
   "id": "9af97595-e2ad-4e24-9c37-480b2a241a89",
   "metadata": {},
   "outputs": [],
   "source": []
  },
  {
   "cell_type": "code",
   "execution_count": null,
   "id": "6ebb281c-2e05-4a8d-b1ad-5981d647ffbd",
   "metadata": {},
   "outputs": [],
   "source": []
  },
  {
   "cell_type": "code",
   "execution_count": null,
   "id": "923fbdf9-9bdd-4156-991a-1e4743476143",
   "metadata": {},
   "outputs": [],
   "source": []
  },
  {
   "cell_type": "code",
   "execution_count": null,
   "id": "83103439-e05d-4144-b4b2-838a08845f11",
   "metadata": {},
   "outputs": [],
   "source": []
  }
 ],
 "metadata": {
  "kernelspec": {
   "display_name": "Python 3 (ipykernel)",
   "language": "python",
   "name": "python3"
  },
  "language_info": {
   "codemirror_mode": {
    "name": "ipython",
    "version": 3
   },
   "file_extension": ".py",
   "mimetype": "text/x-python",
   "name": "python",
   "nbconvert_exporter": "python",
   "pygments_lexer": "ipython3",
   "version": "3.12.4"
  }
 },
 "nbformat": 4,
 "nbformat_minor": 5
}
